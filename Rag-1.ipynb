{
 "cells": [
  {
   "cell_type": "code",
   "execution_count": 1,
   "id": "8981face",
   "metadata": {},
   "outputs": [],
   "source": [
    "import google.generativeai as genai\n",
    "from sentence_transformers import SentenceTransformer\n",
    "import numpy as np\n",
    "from langchain.embeddings.base import Embeddings\n",
    "from langchain.vectorstores import FAISS\n",
    "from langchain.prompts import PromptTemplate\n",
    "from langchain.chains import LLMChain\n",
    "import faiss\n",
    "from langchain.schema import Document\n",
    "from langchain_community.docstore.in_memory import InMemoryDocstore\n",
    "import pickle\n",
    "from dotenv import load_dotenv\n",
    "import os"
   ]
  },
  {
   "cell_type": "code",
   "execution_count": 2,
   "id": "618e7aa9",
   "metadata": {},
   "outputs": [],
   "source": [
    "load_dotenv()\n",
    "genai.configure(api_key=os.getenv('GEMINI_API_KEY'))"
   ]
  },
  {
   "cell_type": "code",
   "execution_count": 3,
   "id": "b20e2000",
   "metadata": {},
   "outputs": [],
   "source": [
    "import fitz\n",
    "\n",
    "def extract_text_from_pdf(pdf_path):\n",
    "    text = \"\"\n",
    "    with fitz.open(pdf_path) as doc:\n",
    "        for page in doc:\n",
    "            text += page.get_text()\n",
    "    return text\n",
    "\n",
    "def chunk_text(text, chunk_size=512):\n",
    "    return [text[i:i+chunk_size] for i in range(0, len(text), chunk_size)]\n"
   ]
  },
  {
   "cell_type": "code",
   "execution_count": 4,
   "id": "df63a1ec",
   "metadata": {},
   "outputs": [],
   "source": [
    "class SentenceTransformerEmbedding(Embeddings):\n",
    "    def __init__(self, model_name=\"all-MiniLM-L6-v2\"):\n",
    "        self.model = SentenceTransformer(model_name)\n",
    "\n",
    "    def embed_documents(self, documents):\n",
    "        return self.model.encode(documents, convert_to_numpy=True)\n",
    "\n",
    "    def embed_query(self, query):\n",
    "        return self.model.encode([query], convert_to_numpy=True)[0]\n"
   ]
  },
  {
   "cell_type": "code",
   "execution_count": 5,
   "id": "86a8966c",
   "metadata": {},
   "outputs": [],
   "source": [
    "pdf_text = extract_text_from_pdf('Bhagavad-gita.pdf')\n",
    "chunks = chunk_text(pdf_text)"
   ]
  },
  {
   "cell_type": "code",
   "execution_count": 6,
   "id": "2692ffae",
   "metadata": {},
   "outputs": [
    {
     "data": {
      "text/plain": [
       "'This free for download ebook is a direct reproduction of the\\noriginal bona fide personally approved and blessed by Srila\\nPrabhupada.\\nThis ebook was made by the official website for Srila\\nPrabhupada’s original books:\\nKrishnapath.org\\nAll the content was directly taken from the original scans, is\\nunchanged and intact.\\nMore free downloads at:\\nwww.krishnapath.org\\nBhagavad-gītā \\nAs It Is\\nBhagavad-gītā \\nAs It Is\\nCOMPLETE EDITION\\nwith original Sanskrit text,\\nRoman transliteration, English equivalents,\\ntranslation a'"
      ]
     },
     "execution_count": 6,
     "metadata": {},
     "output_type": "execute_result"
    }
   ],
   "source": [
    "chunks[0]"
   ]
  },
  {
   "cell_type": "code",
   "execution_count": 8,
   "id": "0b459f87",
   "metadata": {},
   "outputs": [
    {
     "data": {
      "application/vnd.jupyter.widget-view+json": {
       "model_id": "92ab1893934640e29f32157ce18afc42",
       "version_major": 2,
       "version_minor": 0
      },
      "text/plain": [
       "modules.json:   0%|          | 0.00/349 [00:00<?, ?B/s]"
      ]
     },
     "metadata": {},
     "output_type": "display_data"
    },
    {
     "name": "stderr",
     "output_type": "stream",
     "text": [
      "C:\\Users\\rajur\\anaconda3\\lib\\site-packages\\huggingface_hub\\file_download.py:139: UserWarning: `huggingface_hub` cache-system uses symlinks by default to efficiently store duplicated files but your machine does not support them in C:\\Users\\rajur\\.cache\\huggingface\\hub\\models--sentence-transformers--all-MiniLM-L6-v2. Caching files will still work but in a degraded version that might require more space on your disk. This warning can be disabled by setting the `HF_HUB_DISABLE_SYMLINKS_WARNING` environment variable. For more details, see https://huggingface.co/docs/huggingface_hub/how-to-cache#limitations.\n",
      "To support symlinks on Windows, you either need to activate Developer Mode or to run Python as an administrator. In order to activate developer mode, see this article: https://docs.microsoft.com/en-us/windows/apps/get-started/enable-your-device-for-development\n",
      "  warnings.warn(message)\n"
     ]
    },
    {
     "data": {
      "application/vnd.jupyter.widget-view+json": {
       "model_id": "5d71ae3e9b7a4929b97a308681fdee9e",
       "version_major": 2,
       "version_minor": 0
      },
      "text/plain": [
       "config_sentence_transformers.json:   0%|          | 0.00/116 [00:00<?, ?B/s]"
      ]
     },
     "metadata": {},
     "output_type": "display_data"
    },
    {
     "data": {
      "application/vnd.jupyter.widget-view+json": {
       "model_id": "251d50c453f64745bba4dda2f0f9e6d4",
       "version_major": 2,
       "version_minor": 0
      },
      "text/plain": [
       "README.md:   0%|          | 0.00/10.7k [00:00<?, ?B/s]"
      ]
     },
     "metadata": {},
     "output_type": "display_data"
    },
    {
     "data": {
      "application/vnd.jupyter.widget-view+json": {
       "model_id": "718a207910dd4bde93c8e95c5694a1f3",
       "version_major": 2,
       "version_minor": 0
      },
      "text/plain": [
       "sentence_bert_config.json:   0%|          | 0.00/53.0 [00:00<?, ?B/s]"
      ]
     },
     "metadata": {},
     "output_type": "display_data"
    },
    {
     "data": {
      "application/vnd.jupyter.widget-view+json": {
       "model_id": "aa6b117bbc8c4a748d0888fd7eb75ad9",
       "version_major": 2,
       "version_minor": 0
      },
      "text/plain": [
       "config.json:   0%|          | 0.00/612 [00:00<?, ?B/s]"
      ]
     },
     "metadata": {},
     "output_type": "display_data"
    },
    {
     "data": {
      "application/vnd.jupyter.widget-view+json": {
       "model_id": "714a4137328e4835bdb2c6e0194c1c7f",
       "version_major": 2,
       "version_minor": 0
      },
      "text/plain": [
       "model.safetensors:   0%|          | 0.00/90.9M [00:00<?, ?B/s]"
      ]
     },
     "metadata": {},
     "output_type": "display_data"
    },
    {
     "data": {
      "application/vnd.jupyter.widget-view+json": {
       "model_id": "111a28a9684b40fe954ed8d128bb450e",
       "version_major": 2,
       "version_minor": 0
      },
      "text/plain": [
       "tokenizer_config.json:   0%|          | 0.00/350 [00:00<?, ?B/s]"
      ]
     },
     "metadata": {},
     "output_type": "display_data"
    },
    {
     "data": {
      "application/vnd.jupyter.widget-view+json": {
       "model_id": "0b2d9d2f15544db38918851d2a2ee1d7",
       "version_major": 2,
       "version_minor": 0
      },
      "text/plain": [
       "vocab.txt:   0%|          | 0.00/232k [00:00<?, ?B/s]"
      ]
     },
     "metadata": {},
     "output_type": "display_data"
    },
    {
     "data": {
      "application/vnd.jupyter.widget-view+json": {
       "model_id": "c0bbc0e890344fe9afe12b86ac667f70",
       "version_major": 2,
       "version_minor": 0
      },
      "text/plain": [
       "tokenizer.json:   0%|          | 0.00/466k [00:00<?, ?B/s]"
      ]
     },
     "metadata": {},
     "output_type": "display_data"
    },
    {
     "data": {
      "application/vnd.jupyter.widget-view+json": {
       "model_id": "a8f1264b94dc40988ad82da1261f316a",
       "version_major": 2,
       "version_minor": 0
      },
      "text/plain": [
       "special_tokens_map.json:   0%|          | 0.00/112 [00:00<?, ?B/s]"
      ]
     },
     "metadata": {},
     "output_type": "display_data"
    },
    {
     "data": {
      "application/vnd.jupyter.widget-view+json": {
       "model_id": "8b866f90e6344dbe9cf2c7c5e18fb841",
       "version_major": 2,
       "version_minor": 0
      },
      "text/plain": [
       "1_Pooling/config.json:   0%|          | 0.00/190 [00:00<?, ?B/s]"
      ]
     },
     "metadata": {},
     "output_type": "display_data"
    }
   ],
   "source": [
    "embedding_model = SentenceTransformerEmbedding()"
   ]
  },
  {
   "cell_type": "code",
   "execution_count": 11,
   "id": "fba72e2d",
   "metadata": {},
   "outputs": [],
   "source": [
    "chunk_embeddings = embedding_model.embed_documents(chunks)"
   ]
  },
  {
   "cell_type": "code",
   "execution_count": 12,
   "id": "af2e8d8e",
   "metadata": {
    "scrolled": true
   },
   "outputs": [
    {
     "data": {
      "text/plain": [
       "array([-8.60100612e-02, -3.41308825e-02, -1.09034471e-01,  1.55170672e-02,\n",
       "       -7.33080506e-02,  1.58233894e-03,  9.81454272e-03,  3.76618351e-03,\n",
       "        1.77386254e-02,  5.39740287e-02,  9.19527262e-02,  2.19920930e-02,\n",
       "        6.49828538e-02, -4.78510112e-02, -1.57244364e-03, -1.28372200e-02,\n",
       "       -1.85714662e-02,  8.91471133e-02,  1.05936015e-02, -2.73640174e-02,\n",
       "       -9.30150598e-03,  8.42301920e-02,  1.85012948e-02, -1.40110897e-02,\n",
       "        3.88583343e-04,  8.21738446e-04,  3.46470246e-04, -7.73026198e-02,\n",
       "       -1.98862925e-02, -1.48520116e-02,  2.39372402e-02, -2.09651086e-02,\n",
       "       -1.80726424e-02, -5.58208628e-03,  3.60445672e-04,  5.61998747e-02,\n",
       "       -8.81234854e-02,  3.37460004e-02,  3.24368775e-02,  7.85292499e-03,\n",
       "       -2.67651044e-02, -2.37838570e-02, -2.32703015e-02, -3.44898030e-02,\n",
       "        4.76781167e-02, -6.97358325e-02, -9.31292474e-02, -9.13184416e-03,\n",
       "        2.00774893e-02, -3.25640216e-02, -1.21875003e-01, -5.95569611e-02,\n",
       "       -7.15949535e-02,  3.43432240e-02,  4.78985049e-02, -8.64271075e-02,\n",
       "        5.50953439e-03, -3.11368261e-03, -4.70035076e-02,  2.04602573e-02,\n",
       "       -2.26647835e-02,  8.49994086e-03, -5.88203222e-02, -2.43267789e-03,\n",
       "       -9.08264716e-04, -4.19982933e-02,  5.07539473e-02,  4.75342497e-02,\n",
       "        3.04853991e-02, -2.24682763e-02, -4.38041426e-02,  2.90296786e-02,\n",
       "        8.05731565e-02,  2.99461074e-02, -4.04691994e-02, -5.14160059e-02,\n",
       "       -7.13666901e-02,  7.07954243e-02, -6.15517143e-03, -1.91079024e-02,\n",
       "       -3.36466692e-02, -5.23388339e-03,  4.22125682e-02,  1.09930776e-01,\n",
       "       -7.69317746e-02,  5.59641942e-02,  8.34086984e-02, -3.22440192e-02,\n",
       "        1.01051502e-01, -6.68758387e-03,  1.09668009e-01,  7.21827373e-02,\n",
       "        3.65432799e-02,  2.43965909e-02, -7.30711892e-02, -2.34750099e-03,\n",
       "       -1.15517974e-01, -7.64618861e-03,  1.10808779e-02,  4.52767722e-02,\n",
       "       -4.53766435e-02, -2.40806714e-02, -4.83666286e-02, -2.94320658e-02,\n",
       "       -1.12903237e-01, -6.65648980e-03, -3.12026236e-02, -1.95950847e-02,\n",
       "        2.55000684e-02, -9.48860869e-02, -2.82347202e-02, -5.48640788e-02,\n",
       "       -5.03893644e-02,  2.76030302e-02,  1.90555379e-02,  2.33391356e-02,\n",
       "       -5.09004528e-03, -3.16192931e-03,  3.26121747e-02, -3.46652754e-02,\n",
       "       -7.46932700e-02, -3.40174548e-02,  6.40416369e-02, -1.99874844e-02,\n",
       "       -1.22637581e-02, -1.02647647e-01, -3.98605131e-02,  8.70113922e-33,\n",
       "        8.77823308e-02,  3.23185883e-02,  9.02668312e-02, -5.44764884e-02,\n",
       "        2.78652250e-03, -3.86856124e-02, -7.83657208e-02, -1.30822465e-01,\n",
       "       -9.29726940e-03,  1.13580180e-02, -3.72624882e-02,  1.70490500e-02,\n",
       "       -1.06390350e-01, -1.05585568e-02, -1.90479904e-02,  1.69642586e-02,\n",
       "       -3.67460810e-02,  4.35528979e-02,  2.97098067e-02,  4.61018011e-02,\n",
       "        3.15059125e-02,  3.35019603e-02,  6.44849017e-02, -9.25485566e-02,\n",
       "        5.54522611e-02, -1.56660452e-02,  7.65425935e-02, -1.37858866e-02,\n",
       "        8.48642830e-03,  2.64169555e-02,  5.93518279e-02, -1.31768454e-02,\n",
       "       -7.13707581e-02, -2.86624711e-02, -3.46815176e-02, -3.30681093e-02,\n",
       "       -4.73370291e-02, -5.00114169e-03, -4.17699963e-02,  4.75209132e-02,\n",
       "        6.04983931e-03, -1.70687828e-02,  6.09053895e-02,  6.35208637e-02,\n",
       "        2.10585445e-02,  2.28011254e-02,  3.32326442e-02,  4.58508022e-02,\n",
       "        6.94176778e-02,  7.88220987e-02, -6.36127070e-02,  2.42806133e-02,\n",
       "        1.50929287e-03, -3.80170904e-02, -7.79368058e-02, -3.50736678e-02,\n",
       "        1.97991226e-02,  4.71201129e-02,  8.18911418e-02,  1.33152101e-02,\n",
       "        1.78304431e-03, -1.75814349e-02, -3.92148411e-03, -6.70908839e-02,\n",
       "        8.52188654e-03, -5.80868796e-02, -7.61813521e-02, -6.12257496e-02,\n",
       "       -8.09827633e-03, -4.48449180e-02, -6.82542101e-02, -1.38404155e-02,\n",
       "        4.10486162e-02,  4.38365079e-02, -8.10876209e-03, -7.68918917e-02,\n",
       "       -3.42005119e-02,  5.95789701e-02, -1.09993648e-02, -4.34200726e-02,\n",
       "       -1.15160130e-01,  3.78417745e-02, -1.86237879e-02,  8.39236379e-03,\n",
       "        5.58883399e-02,  5.33822589e-02, -1.94645650e-03, -5.11717498e-02,\n",
       "       -1.16742188e-02,  3.01275980e-02,  5.12315929e-02,  7.59041980e-02,\n",
       "       -4.04143222e-02, -1.64241176e-02,  1.18528921e-02, -7.89784018e-33,\n",
       "       -1.34553807e-02, -5.36344126e-02, -2.91953068e-02,  6.47500381e-02,\n",
       "        5.70313185e-02, -7.41368085e-02, -6.67582303e-02,  9.45793092e-02,\n",
       "        1.21316843e-01,  2.79940907e-02, -2.92730797e-02,  5.05335219e-02,\n",
       "        3.70062590e-02,  3.73730399e-02,  3.61944549e-02, -5.14751151e-02,\n",
       "        4.64012213e-02,  4.45131287e-02, -8.92581418e-02, -4.23053168e-02,\n",
       "       -2.04031263e-02,  4.36273180e-02,  9.34252888e-03,  1.86015945e-02,\n",
       "        5.08912839e-02,  9.32354759e-03,  8.00922289e-02,  7.90772662e-02,\n",
       "       -3.74585241e-02, -2.79316003e-03,  6.63122460e-02, -4.37337235e-02,\n",
       "       -1.42297879e-01,  2.04072762e-02, -1.04496464e-01, -4.73375805e-02,\n",
       "        4.57283854e-02,  2.01682523e-02,  5.38021028e-02,  3.91079336e-02,\n",
       "        1.88707728e-02,  3.70561108e-02,  2.43450217e-02, -2.95267906e-02,\n",
       "        9.82649904e-03, -3.20003964e-02,  4.40283976e-02,  4.27456424e-02,\n",
       "       -5.36101907e-02, -1.36244344e-02,  9.97543037e-02,  1.35245156e-02,\n",
       "        9.74156782e-02, -5.85642532e-02,  7.79724941e-02,  1.28649501e-02,\n",
       "       -5.58225662e-02,  1.27711976e-02,  1.07675651e-02, -8.54668580e-03,\n",
       "        4.42678109e-02,  2.30226908e-02, -1.42992930e-02,  7.25392401e-02,\n",
       "       -1.68785639e-02,  9.52906813e-03,  1.27658710e-01, -1.68272648e-02,\n",
       "       -9.24125127e-03,  2.17479542e-02, -1.02639429e-01, -1.01444185e-01,\n",
       "       -1.63220569e-01, -1.79444067e-02,  2.04981621e-02,  2.17806362e-02,\n",
       "       -1.05467908e-01,  1.08422237e-02,  2.92467847e-02, -5.08260122e-03,\n",
       "        9.16441306e-02,  2.19866466e-02, -1.12633286e-02, -8.81773308e-02,\n",
       "        1.40744954e-01,  6.15050346e-02,  3.08284676e-03, -2.32286938e-02,\n",
       "        6.78399950e-02,  1.77327078e-02, -9.26230382e-03,  5.91839105e-02,\n",
       "        6.07406572e-02,  6.41722083e-02,  3.43687683e-02, -5.39946079e-08,\n",
       "        9.17457882e-03, -1.51973609e-02, -1.55528300e-02,  4.73195873e-03,\n",
       "        1.33594856e-01, -8.70623067e-02,  3.15099135e-02,  8.67797155e-03,\n",
       "       -7.38495588e-02,  3.24337333e-02,  2.18011457e-02, -1.25932018e-03,\n",
       "       -1.14482259e-02,  4.21258435e-02,  2.88598742e-02,  3.54095884e-02,\n",
       "        7.92998746e-02,  3.67670022e-02, -3.87704633e-02, -2.61167809e-02,\n",
       "        5.19410037e-02, -3.10569499e-02, -3.60601954e-02, -4.70919460e-02,\n",
       "       -1.21579869e-02, -8.30597337e-03,  3.57509032e-02, -8.42685869e-04,\n",
       "       -4.63172644e-02, -6.86981380e-02,  3.14403139e-02,  5.51485494e-02,\n",
       "        3.26333265e-03, -7.50429779e-02, -4.45741182e-03,  3.84258851e-02,\n",
       "        4.66435514e-02,  3.63695994e-02,  1.71391051e-02,  9.96184945e-02,\n",
       "        3.12283933e-02, -1.60690658e-02,  1.02591336e-01,  1.95152313e-02,\n",
       "       -5.65580465e-02,  9.21595842e-03,  1.58879161e-02, -2.87756845e-02,\n",
       "       -1.19332448e-02, -2.99584586e-02,  1.95747800e-02, -6.59701824e-02,\n",
       "        2.03446927e-03,  9.42582032e-04, -3.95302251e-02,  3.60485818e-03,\n",
       "        1.36483358e-02,  3.91935706e-02,  3.78136300e-02,  3.31315622e-02,\n",
       "        6.37907013e-02, -5.08161634e-03, -2.32057739e-02, -1.12001086e-02],\n",
       "      dtype=float32)"
      ]
     },
     "execution_count": 12,
     "metadata": {},
     "output_type": "execute_result"
    }
   ],
   "source": [
    "chunk_embeddings[0]"
   ]
  },
  {
   "cell_type": "code",
   "execution_count": 13,
   "id": "4ed7434e",
   "metadata": {},
   "outputs": [
    {
     "name": "stderr",
     "output_type": "stream",
     "text": [
      "`embedding_function` is expected to be an Embeddings object, support for passing in a function will soon be removed.\n"
     ]
    }
   ],
   "source": [
    "documents = [Document(page_content=chunk) for chunk in chunks]\n",
    "\n",
    "index = faiss.IndexFlatL2(len(chunk_embeddings[0])) \n",
    "\n",
    "index.add(chunk_embeddings)\n",
    "\n",
    "docstore = InMemoryDocstore({i: documents[i] for i in range(len(documents))})\n",
    "\n",
    "vector_store = FAISS(\n",
    "    embedding_function=embedding_model.embed_query,\n",
    "    index=index,\n",
    "    docstore=docstore,\n",
    "    index_to_docstore_id={i: i for i in range(len(documents))},\n",
    ")\n",
    "\n"
   ]
  },
  {
   "cell_type": "code",
   "execution_count": 14,
   "id": "ac99f201",
   "metadata": {},
   "outputs": [],
   "source": [
    "# Store\n",
    "import faiss\n",
    "import pickle\n",
    "\n",
    "faiss_index_file = 'faiss_index.index'\n",
    "faiss.write_index(vector_store.index, faiss_index_file)\n",
    "\n",
    "docstore_file = 'in_memory_docstore.pkl'\n",
    "with open(docstore_file, 'wb') as f:\n",
    "    pickle.dump(vector_store.docstore, f)\n",
    "\n",
    "index_to_docstore_id_file = 'index_to_docstore_id.pkl'\n",
    "with open(index_to_docstore_id_file, 'wb') as f:\n",
    "    pickle.dump(vector_store.index_to_docstore_id, f)\n"
   ]
  },
  {
   "cell_type": "code",
   "execution_count": 15,
   "id": "65bf35aa",
   "metadata": {},
   "outputs": [
    {
     "name": "stderr",
     "output_type": "stream",
     "text": [
      "`embedding_function` is expected to be an Embeddings object, support for passing in a function will soon be removed.\n"
     ]
    }
   ],
   "source": [
    "# Load\n",
    "faiss_index_file = 'faiss_index.index'\n",
    "index = faiss.read_index(faiss_index_file)\n",
    "\n",
    "docstore_file = 'in_memory_docstore.pkl'\n",
    "with open(docstore_file, 'rb') as f:\n",
    "    docstore = pickle.load(f)\n",
    "\n",
    "index_to_docstore_id_file = 'index_to_docstore_id.pkl'\n",
    "with open(index_to_docstore_id_file, 'rb') as f:\n",
    "    index_to_docstore_id = pickle.load(f)\n",
    "\n",
    "vector_store = FAISS(\n",
    "    embedding_function=embedding_model.embed_query, \n",
    "    index=index,\n",
    "    docstore=docstore,\n",
    "    index_to_docstore_id=index_to_docstore_id,\n",
    ")"
   ]
  },
  {
   "cell_type": "code",
   "execution_count": 16,
   "id": "dd8a32f0",
   "metadata": {},
   "outputs": [],
   "source": [
    "generation_config = {\n",
    "  \"temperature\": 1.0,\n",
    "  \"top_p\": 0.95,\n",
    "  \"top_k\": 64,\n",
    "  \"max_output_tokens\": 8192,\n",
    "  \"response_mime_type\": \"text/plain\",\n",
    "}\n",
    "\n",
    "model = genai.GenerativeModel(\n",
    "  model_name=\"gemini-1.5-flash\",\n",
    "  generation_config=generation_config)\n",
    "\n",
    "def retrieve_relevant_chunks(query, k=5):\n",
    "    docs = vector_store.similarity_search(query, k=k)\n",
    "    return \" \".join([doc.page_content for doc in docs])\n",
    "\n",
    "def generate_with_google(context, query):\n",
    "    response = model.generate_content(f\"Context: {context}\\nQuery: {query}\\nAnswer:\")\n",
    "    return response.text"
   ]
  },
  {
   "cell_type": "code",
   "execution_count": 17,
   "id": "67ed383b",
   "metadata": {},
   "outputs": [],
   "source": [
    "prompt_template = \"\"\"Based on the context provided below, answer the following query.\n",
    "\n",
    "Context: {context}\n",
    "Query: {query}\n",
    "Answer:\"\"\"\n",
    "\n",
    "prompt = PromptTemplate(template=prompt_template, input_variables=[\"context\", \"query\"])\n",
    "\n",
    "def run_rag_pipeline(query):\n",
    "    retrieved_text = retrieve_relevant_chunks(query, k=5)\n",
    "    response = generate_with_google(retrieved_text, query)\n",
    "    return response"
   ]
  },
  {
   "cell_type": "code",
   "execution_count": 18,
   "id": "ba570916",
   "metadata": {},
   "outputs": [
    {
     "name": "stdout",
     "output_type": "stream",
     "text": [
      "True power, according to this text, lies in understanding and realizing the Absolute Truth (described in three phases: Brahman, Paramātmā, and Bhagavān).  This understanding frees one from material attachments and the illusory energy, allowing for unwavering devotional service to the Supreme Personality of Godhead, Krishna.  It's not about independence or equal power, but recognition of one's relationship with Krishna as a part and parcel of Him and acting accordingly.  The ultimate power is the Lord's, and living entities are His energies, subject to His control.\n",
      "\n"
     ]
    }
   ],
   "source": [
    "query = \"Summarize what is true power\"\n",
    "final_answer = run_rag_pipeline(query)\n",
    "print(final_answer)"
   ]
  },
  {
   "cell_type": "code",
   "execution_count": null,
   "id": "83d7b71d",
   "metadata": {},
   "outputs": [],
   "source": []
  }
 ],
 "metadata": {
  "kernelspec": {
   "display_name": "Python 3 (ipykernel)",
   "language": "python",
   "name": "python3"
  },
  "language_info": {
   "codemirror_mode": {
    "name": "ipython",
    "version": 3
   },
   "file_extension": ".py",
   "mimetype": "text/x-python",
   "name": "python",
   "nbconvert_exporter": "python",
   "pygments_lexer": "ipython3",
   "version": "3.9.13"
  }
 },
 "nbformat": 4,
 "nbformat_minor": 5
}
